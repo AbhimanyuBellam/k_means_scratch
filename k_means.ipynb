{
 "cells": [
  {
   "cell_type": "code",
   "execution_count": 307,
   "metadata": {
    "collapsed": true,
    "nbpresent": {
     "id": "b9f9f006-e83f-49c6-8df1-1d311c7f93df"
    }
   },
   "outputs": [],
   "source": [
    "import numpy as np\n",
    "import math\n",
    "import random \n",
    "import matplotlib.pyplot as plt\n",
    "%matplotlib inline\n",
    "import sys\n",
    "import seaborn as sns\n",
    "sns.set()\n",
    "import pandas as pd"
   ]
  },
  {
   "cell_type": "code",
   "execution_count": 308,
   "metadata": {
    "collapsed": false
   },
   "outputs": [
    {
     "name": "stdout",
     "output_type": "stream",
     "text": [
      "900\n",
      "test_len 180\n",
      "720\n"
     ]
    },
    {
     "data": {
      "image/png": "[encoded data removed]",
      "text/plain": [
       "<Figure size 432x288 with 1 Axes>"
      ]
     },
     "metadata": {},
     "output_type": "display_data"
    }
   ],
   "source": [
    "\n",
    "data=pd.read_excel('Workbook1.xlsx')\n",
    "data.columns=[\"x_coordinates\",\"y_coordinates\"]\n",
    "x_coords=list(data.x_coordinates)\n",
    "y_coords=list(data.y_coordinates)\n",
    "print len(x_coords)\n",
    "indexes=[5*i for i in range(0,(len(x_coords)/5))]\n",
    "test_x_coords=[x_coords[i] for i in indexes]\n",
    "test_y_coords=[y_coords[i] for i in indexes]\n",
    "\n",
    "file_test=open(\"test_file.txt\",\"w\")\n",
    "file_test.write(\"X_values\")\n",
    "file_test.write(\"\\t\")\n",
    "file_test.write(\"Y_values\")\n",
    "file_test.write(\"\\n\")\n",
    "for i in range(len(test_x_coords)):\n",
    "    file_test.write(str(test_x_coords[i]))\n",
    "    file_test.write(\"\\t\")\n",
    "    file_test.write(str(test_y_coords[i]))\n",
    "    file_test.write(\"\\n\")\n",
    "file_test.close()\n",
    "\n",
    "test_point_coords=zip(test_x_coords,test_y_coords)\n",
    "print 'test_len',len(test_x_coords)\n",
    "\n",
    "for i in sorted(indexes, reverse=True): \n",
    "    del x_coords[i]\n",
    "    del y_coords[i]\n",
    "\n",
    "points_coordinates=zip(x_coords,y_coords)\n",
    "\n",
    "print len(points_coordinates)\n",
    "plt.scatter(x_coords,y_coords)\n",
    "plt.show()"
   ]
  },
  {
   "cell_type": "code",
   "execution_count": 309,
   "metadata": {
    "collapsed": false,
    "nbpresent": {
     "id": "b8c0a07f-515d-45aa-85ea-9d3f06cd5010"
    }
   },
   "outputs": [],
   "source": [
    "class point:\n",
    "    def __init__(self,point,cluster_no):\n",
    "        self.point=point\n",
    "        self.cluster_no=cluster_no\n",
    "\n",
    "class cluster:\n",
    "    def __init__(self,cluster_no,points):\n",
    "        self.points=points\n",
    "        self.cluster_no=cluster_no\n",
    "        self.centroid=centroid\n",
    "        \n",
    "def find_cost(centroids,points_of_all_clusters): #2 nd argument is list of lists  of points\n",
    "    cost=0\n",
    "    #print 'len_centroids=',len(centroids)\n",
    "    #print 'len_cen',len(centroids)\n",
    "    #print 'len_plts',len(points_of_all_clusters)\n",
    "    try:\n",
    "        for i in range(len(centroids)):\n",
    "            for j in range(len(points_of_all_clusters[i])):\n",
    "                cost=cost+(points_of_all_clusters[i][j][0]-centroids[i][0])**2 + (points_of_all_clusters[i][j][1]-centroids[i][1])**2\n",
    "        #print 'i+j=',i+j\n",
    "    except:\n",
    "        print \"please run again, bad centroid initialization\"\n",
    "        #quit()\n",
    "        sys.exit()\n",
    "    return cost\n",
    "#correct\n",
    "\n",
    "def find_distance(p1,p2):\n",
    "    return math.sqrt((p2[0]-p1[0])**2+(p2[1]-p1[1])**2)\n",
    "#correct"
   ]
  },
  {
   "cell_type": "code",
   "execution_count": 326,
   "metadata": {
    "collapsed": false,
    "nbpresent": {
     "id": "016a9416-f75d-487e-a659-c461275fbeff"
    }
   },
   "outputs": [],
   "source": [
    "#find_cost([[1,1],[2,2]],[[[2,2],[3,3]],[[2,2],[3,3]]])"
   ]
  },
  {
   "cell_type": "code",
   "execution_count": 311,
   "metadata": {
    "collapsed": false,
    "nbpresent": {
     "id": "65f77285-203c-4f6d-8b85-2c912c6b18ad"
    }
   },
   "outputs": [],
   "source": [
    "\n",
    "def decide_clusters(cluster_centroids,points_coordinates):\n",
    "    determined_centroids=[]\n",
    "    for i in range(len(points_coordinates)):\n",
    "        distances=[find_distance(points_coordinates[i],centroid) for centroid in cluster_centroids]\n",
    "        min_index=distances.index(min(distances))\n",
    "        determined_centroids.append(min_index)\n",
    "        \n",
    "    return determined_centroids\n",
    "#correct\n",
    "\n",
    "def make_centroid_list_for_each_pt(determined_centroids,points_coordinates):\n",
    "    points_of_all_clusters=[]\n",
    "    pres_centroid_nums=list(set(determined_centroids))\n",
    "    indexes_list=[]\n",
    "    #print 'pres',pres_centroid_nums\n",
    "    for unique_centroid in pres_centroid_nums:\n",
    "        each_cluster_list_indexes=[]\n",
    "        each_cluster_points=[]\n",
    "        for j in range(len(determined_centroids)):\n",
    "            if unique_centroid==determined_centroids[j]:\n",
    "                each_cluster_list_indexes.append(j)\n",
    "        each_cluster_points=[points_coordinates[i] for i in each_cluster_list_indexes]\n",
    "        #print 'e',each_cluster_points\n",
    "        points_of_all_clusters.append(each_cluster_points)\n",
    "    #print 'cen_lenthdss ',len(pres_centroid_nums)\n",
    "    #print 'make_cen ',len(points_of_all_clusters)\n",
    "    return points_of_all_clusters\n",
    "#correct\n",
    "\n",
    "def compute_clusters_centroids(points_of_all_clusters):\n",
    "    cluster_centroid_list=[]\n",
    "    for each_cluster in points_of_all_clusters:\n",
    "        cluster_centre=None\n",
    "        x_coords=[point[0] for point in each_cluster]\n",
    "        y_coords=[point[1] for point in each_cluster]\n",
    "        x_mean=sum(x_coords)*1.0/len(x_coords)\n",
    "        y_mean=sum(y_coords)*1.0/len(y_coords)\n",
    "        cluster_centroid_list.append([x_mean,y_mean])\n",
    "    return cluster_centroid_list\n",
    "#correct            \n",
    "\n",
    "        "
   ]
  },
  {
   "cell_type": "code",
   "execution_count": 327,
   "metadata": {
    "collapsed": false,
    "nbpresent": {
     "id": "2b2b761c-67d6-4fba-ad89-2ea5ae9a6fad"
    }
   },
   "outputs": [],
   "source": [
    "#decide_clusters([[3,3],[4,4]],[[1,1],[5,5],[3.5,3],[4,4]])\n",
    "#make_centroid_list_for_each_pt([0,1,0,1],[[3,3],[2,2],[4,4],[5,5]])"
   ]
  },
  {
   "cell_type": "code",
   "execution_count": 328,
   "metadata": {
    "collapsed": false,
    "nbpresent": {
     "id": "e32eb44c-346c-4445-aec7-bad3479dacf9"
    }
   },
   "outputs": [],
   "source": [
    "#compute_clusters_centroids([[[1,1],[3,3]],[[4,4],[6,6]]])"
   ]
  },
  {
   "cell_type": "code",
   "execution_count": 314,
   "metadata": {
    "collapsed": false,
    "nbpresent": {
     "id": "129f8b31-36db-491f-b8ea-0aabd5bb6b43"
    }
   },
   "outputs": [],
   "source": [
    "def k_means(no_of_clusters,points_coordinates,epsilon): #pts_crds-> list of lists\n",
    "    \n",
    "    cluster_centroids=[[random.uniform(-7,7),random.uniform(-7,7)]for i in range(no_of_clusters)]\n",
    "    #print cluster_centroids\n",
    "    #print 'init_centroids=',cluster_centroids\n",
    "    determined_centroids=decide_clusters(cluster_centroids,points_coordinates)\n",
    "    points_of_all_clusters=make_centroid_list_for_each_pt(determined_centroids,points_coordinates)\n",
    "    #print 'balal',points_of_all_clusters[0][3]\n",
    "    C_new=find_cost(cluster_centroids,points_of_all_clusters)\n",
    "    #print 'find_cost1',C_new\n",
    "    new_cluster_centers=None\n",
    "    C_old=0\n",
    "    i=0\n",
    "    num_iter_till_conv=0\n",
    "    while(abs(C_new-C_old) >= epsilon ) :\n",
    "        num_iter_till_conv=num_iter_till_conv+1\n",
    "        #print 'i=',i\n",
    "        try:\n",
    "            C_old=C_new\n",
    "            #print C_old,'C_old'\n",
    "            determined_centroids=decide_clusters(cluster_centroids,points_coordinates)\n",
    "            points_of_all_clusters=make_centroid_list_for_each_pt(determined_centroids,points_coordinates)\n",
    "            cluster_centroids=compute_clusters_centroids(points_of_all_clusters)\n",
    "            C_new=find_cost(cluster_centroids,points_of_all_clusters)\n",
    "            #print 'clc',cluster_centroids\n",
    "            #print 'find_cost=',find_cost(new_cluster_centers,points_of_all_clusters)\n",
    "            #print C_new,'C_new'\n",
    "        except:\n",
    "            print \"run again\"\n",
    "            #k_means(no_of_clusters,points_coordinates,epsilon)\n",
    "           \n",
    "    return cluster_centroids,points_of_all_clusters,C_new,determined_centroids,num_iter_till_conv"
   ]
  },
  {
   "cell_type": "code",
   "execution_count": 329,
   "metadata": {
    "collapsed": false,
    "nbpresent": {
     "id": "3cb913cf-28b2-4570-b38f-623364174116"
    }
   },
   "outputs": [],
   "source": [
    "#output=k_means(4,points_coordinates,0.0001)\n",
    "#print 'centeres=',output[0]\n",
    "#print 'cost=',output[2]"
   ]
  },
  {
   "cell_type": "code",
   "execution_count": null,
   "metadata": {
    "collapsed": true
   },
   "outputs": [],
   "source": []
  },
  {
   "cell_type": "code",
   "execution_count": 316,
   "metadata": {
    "collapsed": false,
    "nbpresent": {
     "id": "b2e6b646-35e6-4f57-a4bd-4897574786d7"
    }
   },
   "outputs": [
    {
     "name": "stdout",
     "output_type": "stream",
     "text": [
      "2\n",
      "3\n",
      "4\n",
      "5\n",
      "6\n",
      "7\n",
      "8\n",
      "9\n",
      "10\n"
     ]
    },
    {
     "data": {
      "image/png": "[encoded data removed]",
      "text/plain": [
       "<Figure size 432x288 with 1 Axes>"
      ]
     },
     "metadata": {},
     "output_type": "display_data"
    }
   ],
   "source": [
    "costs_list=[]\n",
    "k_means_op_list=[]\n",
    "iter_till_conv_list=[]\n",
    "for k in range(2,11):\n",
    "    print k \n",
    "    k_means_op_list.append(k_means(k,points_coordinates,0.001))\n",
    "    c_k=k_means_op_list[-1][2]\n",
    "    iter_till_conv_list.append(k_means_op_list[-1][4])\n",
    "    costs_list.append(c_k)\n",
    "\n",
    "r_k_list=[]\n",
    "for i in range(len(costs_list)):\n",
    "    if i>0 and i<8:\n",
    "        r_k_list.append(abs((costs_list[i]-costs_list[i+1])/(costs_list[i-1]-costs_list[i])))\n",
    "\n",
    "        \n",
    "best_num_clusters=r_k_list.index(min(r_k_list))+3\n",
    "\n",
    "file_output=open(\"output_file.txt\",\"w\")\n",
    "file_output.write(\"X_values\")\n",
    "file_output.write(\"\\t\")\n",
    "file_output.write(\"Y_values\")\n",
    "file_output.write(\"\\t\")\n",
    "file_output.write(\"Cluster_no\")\n",
    "file_output.write(\"\\n\")\n",
    "for i in range(len(k_means_op_list[best_num_clusters][3])):\n",
    "    file_output.write(str(x_coords[i]))\n",
    "    file_output.write(\"\\t\")\n",
    "    file_output.write(str(y_coords[i]))\n",
    "    file_output.write(\"\\t\")\n",
    "    file_output.write(str(k_means_op_list[best_num_clusters][3][i]))\n",
    "    file_output.write(\"\\n\")\n",
    "file_output.close()\n",
    "\n",
    "data_to_plot=pd.read_csv(\"output_file.txt\",sep='\\t')\n",
    "#print data_to_plot.head\n",
    "data_to_plot.columns=[\"x_coords\",\"y_coords\",\"Memberships\"]\n",
    "\n",
    "try:\n",
    "    sns.scatterplot( data=data_to_plot,x='x_coords', y =\"y_coords\", hue=\"Memberships\", style=\"Memberships\")\n",
    "    #plt.show()\n",
    "    plt.savefig(\"data_set_clusters_image.png\")\n",
    "except:\n",
    "    print 'please run again, bad initilizations'\n",
    "\n",
    "    "
   ]
  },
  {
   "cell_type": "code",
   "execution_count": 317,
   "metadata": {
    "collapsed": false,
    "nbpresent": {
     "id": "91dc46b3-1b7d-4199-8a2b-a70b4d7c9472"
    }
   },
   "outputs": [],
   "source": [
    "file_output=open(\"output_file.txt\",\"w\")\n",
    "file_output.write(\"X_values\")\n",
    "file_output.write(\"\\t\")\n",
    "file_output.write(\"Y_values\")\n",
    "file_output.write(\"\\t\")\n",
    "file_output.write(\"Cluster_no\")\n",
    "file_output.write(\"\\n\")\n",
    "for i in range(len(x_coords)):\n",
    "    file_output.write(str(x_coords[i]))\n",
    "    file_output.write(\"\\t\")\n",
    "    file_output.write(str(y_coords[i]))\n",
    "    file_output.write(\"\\t\")\n",
    "    file_output.write(str(k_means_op_list[best_num_clusters][3][i]))\n",
    "    file_output.write(\"\\n\")\n",
    "file_output.close()\n"
   ]
  },
  {
   "cell_type": "code",
   "execution_count": 318,
   "metadata": {
    "collapsed": false
   },
   "outputs": [
    {
     "name": "stdout",
     "output_type": "stream",
     "text": [
      "[0, 1, 2, 3, 4, 5, 6]\n",
      "[[-4.632582031249999, 4.87937765625], [5.82545268065268, 4.979794965034967], [1.713171111111111, -1.3439555555555553], [-4.725949593495933, -4.81750406504065], [4.051431501831502, 8.43680197802198], [5.155783333333333, -5.029695833333334], [-0.8059600000000001, 1.264687285714286]]\n"
     ]
    }
   ],
   "source": [
    "set_of_clusters_op=k_means_op_list[best_num_clusters][0]\n",
    "set_of_clusters_nums=list(set(k_means_op_list[best_num_clusters][3]))\n",
    "print set_of_clusters_nums\n",
    "print set_of_clusters_op"
   ]
  },
  {
   "cell_type": "code",
   "execution_count": 319,
   "metadata": {
    "collapsed": false
   },
   "outputs": [],
   "source": [
    "file_output_c_centers=open(\"centroid_info.txt\",\"w\")\n",
    "file_output_c_centers.write(\"X_values\")\n",
    "file_output_c_centers.write(\"\\t\")\n",
    "file_output_c_centers.write(\"Y_values\")\n",
    "file_output_c_centers.write(\"\\n\")\n",
    "for i in range(len(set_of_clusters_op)):\n",
    "    file_output_c_centers.write(str(set_of_clusters_op[i][0]))\n",
    "    file_output_c_centers.write(\"\\t\")\n",
    "    file_output_c_centers.write(str(set_of_clusters_op[i][1]))\n",
    "    file_output_c_centers.write(\"\\n\")\n",
    "file_output_c_centers.close()"
   ]
  },
  {
   "cell_type": "code",
   "execution_count": 330,
   "metadata": {
    "collapsed": false
   },
   "outputs": [
    {
     "data": {
      "image/png": "[encoded data removed]",
      "text/plain": [
       "<Figure size 432x288 with 2 Axes>"
      ]
     },
     "metadata": {},
     "output_type": "display_data"
    }
   ],
   "source": [
    "fig, ax1 = plt.subplots()\n",
    "\n",
    "ax2 = ax1.twinx()\n",
    "ax1.plot(k_list,costs_list, 'g-')\n",
    "ax2.plot(k_list,iter_till_conv_list, 'b-')\n",
    "\n",
    "ax1.set_xlabel('Num of Clusters')\n",
    "ax1.set_ylabel('Costs', color='g')\n",
    "ax2.set_ylabel('Iterations', color='b')\n",
    "\n",
    "#plt.show()\n",
    "plt.savefig(\"cost_and_iter_vs_k.png\")"
   ]
  },
  {
   "cell_type": "code",
   "execution_count": 321,
   "metadata": {
    "collapsed": false
   },
   "outputs": [],
   "source": [
    "#fp=open(\"text_file.txt\",\"w\")"
   ]
  },
  {
   "cell_type": "code",
   "execution_count": null,
   "metadata": {
    "collapsed": true
   },
   "outputs": [],
   "source": []
  },
  {
   "cell_type": "code",
   "execution_count": 322,
   "metadata": {
    "collapsed": false
   },
   "outputs": [],
   "source": [
    "data2=pd.read_csv('centroid_info.txt',sep=\"\\t\")\n",
    "data2.columns=[\"centroid_x_coord\",\"centroid_y_coord\"]\n",
    "\n",
    "cen_x_coords=list(data2.centroid_x_coord)\n",
    "cen_y_coords=list(data2.centroid_y_coord)\n",
    "centroid_locations=zip(cen_x_coords,cen_y_coords)\n",
    "\n",
    "data_test=pd.read_csv('test_file.txt',sep=\"\\t\")\n",
    "data_test.columns=[\"test_x_coords\",\"test_y_coords\"]\n",
    "\n",
    "test_x_coords=list(data_test.test_x_coords)\n",
    "test_y_coords=list(data_test.test_y_coords)\n",
    "test_coords=zip(test_x_coords,test_y_coords)\n"
   ]
  },
  {
   "cell_type": "code",
   "execution_count": 323,
   "metadata": {
    "collapsed": true
   },
   "outputs": [],
   "source": [
    "memberships_list=decide_clusters(centroid_locations,test_coords)"
   ]
  },
  {
   "cell_type": "code",
   "execution_count": 324,
   "metadata": {
    "collapsed": false
   },
   "outputs": [],
   "source": [
    "file_output_test=open(\"test_data_output_file.txt\",\"w\")\n",
    "file_output_test.write(\"X_values\")\n",
    "file_output_test.write(\"\\t\")\n",
    "file_output_test.write(\"Y_values\")\n",
    "file_output_test.write(\"\\t\")\n",
    "file_output_test.write(\"Cluster_no\")\n",
    "file_output_test.write(\"\\n\")\n",
    "for i in range(len(test_x_coords)):\n",
    "    file_output_test.write(str(test_x_coords[i]))\n",
    "    file_output_test.write(\"\\t\")\n",
    "    file_output_test.write(str(test_y_coords[i]))\n",
    "    file_output_test.write(\"\\t\")\n",
    "    file_output_test.write(str(memberships_list[i]))\n",
    "    file_output_test.write(\"\\n\")\n",
    "file_output_test.close()"
   ]
  },
  {
   "cell_type": "code",
   "execution_count": 325,
   "metadata": {
    "collapsed": false
   },
   "outputs": [
    {
     "data": {
      "image/png": "[encoded data removed]",
      "text/plain": [
       "<Figure size 432x288 with 1 Axes>"
      ]
     },
     "metadata": {},
     "output_type": "display_data"
    }
   ],
   "source": [
    "\n",
    "data_test['Memberships']=memberships_list\n",
    "sns.scatterplot(data=data_test, x=\"test_x_coords\", y =\"test_y_coords\", hue=\"Memberships\", style=\"Memberships\")\n",
    "#plt.show()\n",
    "plt.savefig(\"test_data_set_clusters_image.png\")"
   ]
  },
  {
   "cell_type": "code",
   "execution_count": null,
   "metadata": {
    "collapsed": true
   },
   "outputs": [],
   "source": []
  },
  {
   "cell_type": "code",
   "execution_count": 286,
   "metadata": {
    "collapsed": true
   },
   "outputs": [],
   "source": [
    "#testing here onwards"
   ]
  },
  {
   "cell_type": "code",
   "execution_count": null,
   "metadata": {
    "collapsed": false,
    "nbpresent": {
     "id": "f12e5df2-364b-4bff-8bb2-5eb687e30e96"
    }
   },
   "outputs": [],
   "source": []
  },
  {
   "cell_type": "code",
   "execution_count": null,
   "metadata": {
    "collapsed": false,
    "nbpresent": {
     "id": "6a91b88f-360b-46cc-adcd-635b5b4fcc4b"
    }
   },
   "outputs": [],
   "source": []
  },
  {
   "cell_type": "code",
   "execution_count": null,
   "metadata": {
    "collapsed": false,
    "nbpresent": {
     "id": "1793dcca-6f09-4c45-8ef5-b133b0d26f34"
    }
   },
   "outputs": [],
   "source": []
  },
  {
   "cell_type": "code",
   "execution_count": null,
   "metadata": {
    "collapsed": false,
    "nbpresent": {
     "id": "c080ce11-1270-4a1b-875d-ddc5fdde63a1"
    }
   },
   "outputs": [],
   "source": [
    "\n"
   ]
  },
  {
   "cell_type": "code",
   "execution_count": null,
   "metadata": {
    "collapsed": false,
    "nbpresent": {
     "id": "4cf35443-d8e5-478e-b438-14e5137a37e0"
    }
   },
   "outputs": [],
   "source": []
  },
  {
   "cell_type": "code",
   "execution_count": null,
   "metadata": {
    "collapsed": false,
    "nbpresent": {
     "id": "97f39d66-ccff-42e0-8ac6-78a6308de2cb"
    }
   },
   "outputs": [],
   "source": []
  },
  {
   "cell_type": "code",
   "execution_count": 29,
   "metadata": {
    "collapsed": true,
    "nbpresent": {
     "id": "895f6a05-840f-4aef-96b5-7b06dea3069d"
    }
   },
   "outputs": [],
   "source": []
  },
  {
   "cell_type": "code",
   "execution_count": 30,
   "metadata": {
    "collapsed": true,
    "nbpresent": {
     "id": "f685fe06-c785-4a78-a3bb-7a324d172421"
    }
   },
   "outputs": [],
   "source": []
  },
  {
   "cell_type": "code",
   "execution_count": null,
   "metadata": {
    "collapsed": false,
    "nbpresent": {
     "id": "55ae8a81-3613-4899-a51c-367f18ae2a11"
    }
   },
   "outputs": [],
   "source": []
  },
  {
   "cell_type": "code",
   "execution_count": null,
   "metadata": {
    "collapsed": false
   },
   "outputs": [],
   "source": []
  },
  {
   "cell_type": "code",
   "execution_count": null,
   "metadata": {
    "collapsed": false,
    "nbpresent": {
     "id": "334ca7cc-ca8b-4a9d-9474-419c0fb296c3"
    }
   },
   "outputs": [],
   "source": []
  },
  {
   "cell_type": "code",
   "execution_count": null,
   "metadata": {
    "collapsed": false,
    "nbpresent": {
     "id": "5c922ce6-5534-42df-8358-ab3f9e9ea36f"
    }
   },
   "outputs": [],
   "source": []
  },
  {
   "cell_type": "code",
   "execution_count": null,
   "metadata": {
    "collapsed": false,
    "nbpresent": {
     "id": "1dedbfb3-5382-44f0-9a02-0fb38bc71923"
    }
   },
   "outputs": [],
   "source": []
  },
  {
   "cell_type": "code",
   "execution_count": null,
   "metadata": {
    "collapsed": true
   },
   "outputs": [],
   "source": []
  }
 ],
 "metadata": {
  "anaconda-cloud": {},
  "kernelspec": {
   "display_name": "Python [default]",
   "language": "python",
   "name": "python2"
  },
  "nbpresent": {
   "slides": {
    "0f4d52aa-9e5c-4c98-b9a2-d97032c48e2f": {
     "id": "0f4d52aa-9e5c-4c98-b9a2-d97032c48e2f",
     "prev": "f04b2ed1-1736-4f1a-b0d8-4deb0dee2e40",
     "regions": {
      "986e30e9-3d79-4c0c-99fc-007ce1b3ead5": {
       "attrs": {
        "height": 0.8,
        "width": 0.8,
        "x": 0.1,
        "y": 0.1
       },
       "content": {
        "cell": "97f39d66-ccff-42e0-8ac6-78a6308de2cb",
        "part": "whole"
       },
       "id": "986e30e9-3d79-4c0c-99fc-007ce1b3ead5"
      }
     }
    },
    "3d94239b-118b-4a9b-a195-0ab08407856f": {
     "id": "3d94239b-118b-4a9b-a195-0ab08407856f",
     "prev": "e3212b33-3341-48c9-ae77-810d66baeb6e",
     "regions": {
      "7202870e-1f58-4ebd-92ee-887e93845dbb": {
       "attrs": {
        "height": 0.8,
        "width": 0.8,
        "x": 0.1,
        "y": 0.1
       },
       "content": {
        "cell": "f12e5df2-364b-4bff-8bb2-5eb687e30e96",
        "part": "whole"
       },
       "id": "7202870e-1f58-4ebd-92ee-887e93845dbb"
      }
     }
    },
    "45272ac5-6134-4870-ad7b-86f1c64c9b16": {
     "id": "45272ac5-6134-4870-ad7b-86f1c64c9b16",
     "prev": "d427e7e0-a852-4859-804c-4fbb0395c7a5",
     "regions": {
      "e889172f-6605-448e-a676-e093ad81a422": {
       "attrs": {
        "height": 0.8,
        "width": 0.8,
        "x": 0.1,
        "y": 0.1
       },
       "content": {
        "cell": "5c922ce6-5534-42df-8358-ab3f9e9ea36f",
        "part": "whole"
       },
       "id": "e889172f-6605-448e-a676-e093ad81a422"
      }
     }
    },
    "469b2b18-4f2c-4589-b1f4-dff872418525": {
     "id": "469b2b18-4f2c-4589-b1f4-dff872418525",
     "prev": "ad283a5f-5cad-4b8d-bbd8-97e404b20e5c",
     "regions": {
      "b4242800-7069-4872-beb7-68e56cdccf9d": {
       "attrs": {
        "height": 0.8,
        "width": 0.8,
        "x": 0.1,
        "y": 0.1
       },
       "content": {
        "cell": "3cb913cf-28b2-4570-b38f-623364174116",
        "part": "whole"
       },
       "id": "b4242800-7069-4872-beb7-68e56cdccf9d"
      }
     }
    },
    "5cc0ce63-af2b-4f79-a842-ce1757111ead": {
     "id": "5cc0ce63-af2b-4f79-a842-ce1757111ead",
     "prev": "c2fe9fb2-46e0-47d2-946a-99f5805ae025",
     "regions": {
      "f59051e1-a0dd-4a3e-ba03-0d7b744a0908": {
       "attrs": {
        "height": 0.8,
        "width": 0.8,
        "x": 0.1,
        "y": 0.1
       },
       "content": {
        "cell": "b8c0a07f-515d-45aa-85ea-9d3f06cd5010",
        "part": "whole"
       },
       "id": "f59051e1-a0dd-4a3e-ba03-0d7b744a0908"
      }
     }
    },
    "6a5c1c8c-9fb5-4456-8d43-08c5f83d10c7": {
     "id": "6a5c1c8c-9fb5-4456-8d43-08c5f83d10c7",
     "prev": "45272ac5-6134-4870-ad7b-86f1c64c9b16",
     "regions": {
      "b841723a-56b7-4ca6-aa29-5bc6ebbc540b": {
       "attrs": {
        "height": 0.8,
        "width": 0.8,
        "x": 0.1,
        "y": 0.1
       },
       "content": {
        "cell": "1dedbfb3-5382-44f0-9a02-0fb38bc71923",
        "part": "whole"
       },
       "id": "b841723a-56b7-4ca6-aa29-5bc6ebbc540b"
      }
     }
    },
    "6f46aab0-8809-4075-b3d6-672b503c6e37": {
     "id": "6f46aab0-8809-4075-b3d6-672b503c6e37",
     "prev": "3d94239b-118b-4a9b-a195-0ab08407856f",
     "regions": {
      "0663a1d2-06aa-46db-abe7-3d3086cff0cc": {
       "attrs": {
        "height": 0.8,
        "width": 0.8,
        "x": 0.1,
        "y": 0.1
       },
       "content": {
        "cell": "6a91b88f-360b-46cc-adcd-635b5b4fcc4b",
        "part": "whole"
       },
       "id": "0663a1d2-06aa-46db-abe7-3d3086cff0cc"
      }
     }
    },
    "6fef99c0-adca-4dc0-9d79-3c6d23b35348": {
     "id": "6fef99c0-adca-4dc0-9d79-3c6d23b35348",
     "prev": "f0ee4be8-599e-4ff3-9e1f-2b02baf94828",
     "regions": {
      "4fad9382-ee13-4d32-9667-88d17b9f79e6": {
       "attrs": {
        "height": 0.8,
        "width": 0.8,
        "x": 0.1,
        "y": 0.1
       },
       "content": {
        "cell": "e32eb44c-346c-4445-aec7-bad3479dacf9",
        "part": "whole"
       },
       "id": "4fad9382-ee13-4d32-9667-88d17b9f79e6"
      }
     }
    },
    "89eab82b-1cfc-4855-a395-fe00ea9c4635": {
     "id": "89eab82b-1cfc-4855-a395-fe00ea9c4635",
     "prev": "ac19dbdc-d755-4a84-b8dc-d7773eb43c99",
     "regions": {
      "ae1c4a24-3d9e-4922-9e7d-6679a00ff07d": {
       "attrs": {
        "height": 0.8,
        "width": 0.8,
        "x": 0.1,
        "y": 0.1
       },
       "content": {
        "cell": "55ae8a81-3613-4899-a51c-367f18ae2a11",
        "part": "whole"
       },
       "id": "ae1c4a24-3d9e-4922-9e7d-6679a00ff07d"
      }
     }
    },
    "ac19dbdc-d755-4a84-b8dc-d7773eb43c99": {
     "id": "ac19dbdc-d755-4a84-b8dc-d7773eb43c99",
     "prev": "dd0eac89-a00b-455b-a89e-a0e247369625",
     "regions": {
      "1fc00f1f-149a-4a66-8692-1cf29ef5bcb5": {
       "attrs": {
        "height": 0.8,
        "width": 0.8,
        "x": 0.1,
        "y": 0.1
       },
       "content": {
        "cell": "f685fe06-c785-4a78-a3bb-7a324d172421",
        "part": "whole"
       },
       "id": "1fc00f1f-149a-4a66-8692-1cf29ef5bcb5"
      }
     }
    },
    "ad283a5f-5cad-4b8d-bbd8-97e404b20e5c": {
     "id": "ad283a5f-5cad-4b8d-bbd8-97e404b20e5c",
     "prev": "6fef99c0-adca-4dc0-9d79-3c6d23b35348",
     "regions": {
      "a46d3b01-9454-4135-97f1-38d5b62f5df0": {
       "attrs": {
        "height": 0.8,
        "width": 0.8,
        "x": 0.1,
        "y": 0.1
       },
       "content": {
        "cell": "129f8b31-36db-491f-b8ea-0aabd5bb6b43",
        "part": "whole"
       },
       "id": "a46d3b01-9454-4135-97f1-38d5b62f5df0"
      }
     }
    },
    "c2fe9fb2-46e0-47d2-946a-99f5805ae025": {
     "id": "c2fe9fb2-46e0-47d2-946a-99f5805ae025",
     "prev": null,
     "regions": {
      "e3a1b49a-f757-4b6d-82dc-acaaac9db459": {
       "attrs": {
        "height": 0.8,
        "width": 0.8,
        "x": 0.1,
        "y": 0.1
       },
       "content": {
        "cell": "b9f9f006-e83f-49c6-8df1-1d311c7f93df",
        "part": "whole"
       },
       "id": "e3a1b49a-f757-4b6d-82dc-acaaac9db459"
      }
     }
    },
    "cdabf932-113f-498e-be17-577bfa2fac51": {
     "id": "cdabf932-113f-498e-be17-577bfa2fac51",
     "prev": "5cc0ce63-af2b-4f79-a842-ce1757111ead",
     "regions": {
      "937632c1-b7d2-4dd1-a142-271b0ad5da37": {
       "attrs": {
        "height": 0.8,
        "width": 0.8,
        "x": 0.1,
        "y": 0.1
       },
       "content": {
        "cell": "016a9416-f75d-487e-a659-c461275fbeff",
        "part": "whole"
       },
       "id": "937632c1-b7d2-4dd1-a142-271b0ad5da37"
      }
     }
    },
    "cdc2d294-d5a3-4d8e-a9bd-55e64a297edf": {
     "id": "cdc2d294-d5a3-4d8e-a9bd-55e64a297edf",
     "prev": "469b2b18-4f2c-4589-b1f4-dff872418525",
     "regions": {
      "0d690967-b5de-4eef-9539-08e7a1bede4a": {
       "attrs": {
        "height": 0.8,
        "width": 0.8,
        "x": 0.1,
        "y": 0.1
       },
       "content": {
        "cell": "b2e6b646-35e6-4f57-a4bd-4897574786d7",
        "part": "whole"
       },
       "id": "0d690967-b5de-4eef-9539-08e7a1bede4a"
      }
     }
    },
    "d1e9d794-39f5-4451-a916-654e1ce3d103": {
     "id": "d1e9d794-39f5-4451-a916-654e1ce3d103",
     "prev": "cdabf932-113f-498e-be17-577bfa2fac51",
     "regions": {
      "b9ca8552-63bd-4625-b4e3-f26819138075": {
       "attrs": {
        "height": 0.8,
        "width": 0.8,
        "x": 0.1,
        "y": 0.1
       },
       "content": {
        "cell": "65f77285-203c-4f6d-8b85-2c912c6b18ad",
        "part": "whole"
       },
       "id": "b9ca8552-63bd-4625-b4e3-f26819138075"
      }
     }
    },
    "d427e7e0-a852-4859-804c-4fbb0395c7a5": {
     "id": "d427e7e0-a852-4859-804c-4fbb0395c7a5",
     "prev": "89eab82b-1cfc-4855-a395-fe00ea9c4635",
     "regions": {
      "9218b094-b96b-4489-b781-912b2091d238": {
       "attrs": {
        "height": 0.8,
        "width": 0.8,
        "x": 0.1,
        "y": 0.1
       },
       "content": {
        "cell": "334ca7cc-ca8b-4a9d-9474-419c0fb296c3",
        "part": "whole"
       },
       "id": "9218b094-b96b-4489-b781-912b2091d238"
      }
     }
    },
    "dd0eac89-a00b-455b-a89e-a0e247369625": {
     "id": "dd0eac89-a00b-455b-a89e-a0e247369625",
     "prev": "0f4d52aa-9e5c-4c98-b9a2-d97032c48e2f",
     "regions": {
      "f68d36af-2385-4f0f-983b-847509a63ea2": {
       "attrs": {
        "height": 0.8,
        "width": 0.8,
        "x": 0.1,
        "y": 0.1
       },
       "content": {
        "cell": "895f6a05-840f-4aef-96b5-7b06dea3069d",
        "part": "whole"
       },
       "id": "f68d36af-2385-4f0f-983b-847509a63ea2"
      }
     }
    },
    "dde20190-70bb-4866-b78b-5c587a72f874": {
     "id": "dde20190-70bb-4866-b78b-5c587a72f874",
     "prev": "6f46aab0-8809-4075-b3d6-672b503c6e37",
     "regions": {
      "cfe98a55-8c61-4d38-94cd-b0e9b332f3b7": {
       "attrs": {
        "height": 0.8,
        "width": 0.8,
        "x": 0.1,
        "y": 0.1
       },
       "content": {
        "cell": "1793dcca-6f09-4c45-8ef5-b133b0d26f34",
        "part": "whole"
       },
       "id": "cfe98a55-8c61-4d38-94cd-b0e9b332f3b7"
      }
     }
    },
    "e3212b33-3341-48c9-ae77-810d66baeb6e": {
     "id": "e3212b33-3341-48c9-ae77-810d66baeb6e",
     "prev": "cdc2d294-d5a3-4d8e-a9bd-55e64a297edf",
     "regions": {
      "89606d4a-24f3-4e37-87d9-c42d9d727bd8": {
       "attrs": {
        "height": 0.8,
        "width": 0.8,
        "x": 0.1,
        "y": 0.1
       },
       "content": {
        "cell": "91dc46b3-1b7d-4199-8a2b-a70b4d7c9472",
        "part": "whole"
       },
       "id": "89606d4a-24f3-4e37-87d9-c42d9d727bd8"
      }
     }
    },
    "f04b2ed1-1736-4f1a-b0d8-4deb0dee2e40": {
     "id": "f04b2ed1-1736-4f1a-b0d8-4deb0dee2e40",
     "prev": "fbfd8e91-90ad-4078-9e4d-068db6e8fde4",
     "regions": {
      "bd98b6f7-0af1-483d-8242-4e30c8c494ca": {
       "attrs": {
        "height": 0.8,
        "width": 0.8,
        "x": 0.1,
        "y": 0.1
       },
       "content": {
        "cell": "4cf35443-d8e5-478e-b438-14e5137a37e0",
        "part": "whole"
       },
       "id": "bd98b6f7-0af1-483d-8242-4e30c8c494ca"
      }
     }
    },
    "f0ee4be8-599e-4ff3-9e1f-2b02baf94828": {
     "id": "f0ee4be8-599e-4ff3-9e1f-2b02baf94828",
     "prev": "d1e9d794-39f5-4451-a916-654e1ce3d103",
     "regions": {
      "c80bcf5b-cf27-433c-9f3a-ae5d1a15ba8f": {
       "attrs": {
        "height": 0.8,
        "width": 0.8,
        "x": 0.1,
        "y": 0.1
       },
       "content": {
        "cell": "2b2b761c-67d6-4fba-ad89-2ea5ae9a6fad",
        "part": "whole"
       },
       "id": "c80bcf5b-cf27-433c-9f3a-ae5d1a15ba8f"
      }
     }
    },
    "fbfd8e91-90ad-4078-9e4d-068db6e8fde4": {
     "id": "fbfd8e91-90ad-4078-9e4d-068db6e8fde4",
     "prev": "dde20190-70bb-4866-b78b-5c587a72f874",
     "regions": {
      "e2af37d3-8890-4d11-8c3a-0ad8d75c9e23": {
       "attrs": {
        "height": 0.8,
        "width": 0.8,
        "x": 0.1,
        "y": 0.1
       },
       "content": {
        "cell": "c080ce11-1270-4a1b-875d-ddc5fdde63a1",
        "part": "whole"
       },
       "id": "e2af37d3-8890-4d11-8c3a-0ad8d75c9e23"
      }
     }
    }
   },
   "themes": {}
  }
 },
 "nbformat": 4,
 "nbformat_minor": 1
}
